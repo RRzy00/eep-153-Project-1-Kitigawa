{
  "metadata": {
    "kernelspec": {
      "name": "python",
      "display_name": "Python (Pyodide)",
      "language": "python"
    },
    "language_info": {
      "codemirror_mode": {
        "name": "python",
        "version": 3
      },
      "file_extension": ".py",
      "mimetype": "text/x-python",
      "name": "python",
      "nbconvert_exporter": "python",
      "pygments_lexer": "ipython3",
      "version": "3.8"
    }
  },
  "nbformat_minor": 5,
  "nbformat": 4,
  "cells": [
    {
      "cell_type": "code",
      "source": "def dataframefunction(agelowerbound=0, ageupperbound=80, givencountry='world'):\n    age_ranges = []\n\n    # Ranges top out at 80, and go in five year increments\n    for i in range(agelowerbound,ageupperbound,5):\n        age_ranges.append(f\"{i:02d}\"+f\"{i+4:02d}\")\n\n    if ageupperbound == 80:\n        age_ranges.append(\"80UP\")\n\n    male_variables = {\"SP.POP.\"+age_range+\".MA\":\"Males \"+age_range for age_range in age_ranges}\n    female_variables = {\"SP.POP.\"+age_range+\".FE\":\"Females \"+age_range for age_range in age_ranges}\n\n    variables = male_variables\n    variables.update(female_variables)\n    \n    country = givencountry\n    df = wbdata.get_dataframe(variables, country)\n    df['Country'] = [country for i in range(0, len(df))]\n    df.insert(0, \"Country\", df.pop(\"Country\"))\n    return df\n",
      "metadata": {
        "trusted": true
      },
      "execution_count": 1,
      "outputs": [],
      "id": "620811cf-b17b-4f64-8084-87eb3a7a577e"
    },
    {
      "cell_type": "code",
      "source": "def population(year='', sex='', age_range=(0), place=''): \n    newplace = place\n    if len(place) != 3:\n        newplace = wbdata.search_countries(place)[0]['id']\n    upperage = age_range[1]\n    lowerage = age_range[0]\n    if upperage > 80:\n        upperage = 80\n    theage = (upperage - lowerage)//5 + 1\n    theyear = 2021 - int(year) \n    if sex == 'Male':\n        value = dataframefunction(lowerage, upperage, newplace).iloc[theyear,1:(theage+1)].sum()\n        return 'In ' + str(year) + ', there are ' + str(value) + ' ' + str(sex.lower()) + \"s aged \" + str(age_range[0]) + \" to \"+ str(age_range[1]) + \" in the \" + wbdata.get_country(newplace)[0]['name']\n    if sex == 'Female':\n        value = dataframefunction(lowerage, upperage, newplace).iloc[theyear,18:18+(theage+1)].sum()\n        return 'In ' + str(year) + ', there are ' + str(value) + ' ' + str(sex.lower()) + \"s aged \" + str(age_range[0]) + \" to \"+ str(age_range[1]) + \" in the \" + wbdata.get_country(newplace)[0]['name']\n    if sex == 'People':\n        value = dataframefunction(lowerage, upperage, newplace).iloc[theyear,1:(theage+1)].sum() + dataframefunction(lowerage, upperage, newplace).iloc[theyear,18:18+(theage+1)].sum()\n        return 'In ' + str(year) + ', there are ' + str(value) + ' ' + str(sex.lower()) + \" aged \" + str(age_range[0]) + \" to \"+ str(age_range[1]) + \" in the \" + wbdata.get_country(newplace)[0]['name']\n    ",
      "metadata": {},
      "execution_count": null,
      "outputs": [],
      "id": "b1a19c44-d74b-465e-bac7-9aeec4dd69ef"
    }
  ]
}